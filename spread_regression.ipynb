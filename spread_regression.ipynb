{
 "cells": [
  {
   "cell_type": "code",
   "execution_count": 1,
   "metadata": {},
   "outputs": [],
   "source": [
    "import pandas as pd\n",
    "import numpy as np"
   ]
  },
  {
   "cell_type": "code",
   "execution_count": 2,
   "metadata": {},
   "outputs": [],
   "source": [
    "df=pd.read_csv('dataset_regression.csv')"
   ]
  },
  {
   "cell_type": "code",
   "execution_count": 3,
   "metadata": {},
   "outputs": [],
   "source": [
    "df = df[df['actual_spread'] >= 0]"
   ]
  },
  {
   "cell_type": "code",
   "execution_count": 4,
   "metadata": {},
   "outputs": [
    {
     "data": {
      "text/plain": [
       "(155, 7)"
      ]
     },
     "execution_count": 4,
     "metadata": {},
     "output_type": "execute_result"
    }
   ],
   "source": [
    "df.shape"
   ]
  },
  {
   "cell_type": "code",
   "execution_count": 5,
   "metadata": {},
   "outputs": [
    {
     "name": "stdout",
     "output_type": "stream",
     "text": [
      "                                 OLS Regression Results                                \n",
      "=======================================================================================\n",
      "Dep. Variable:          actual_spread   R-squared (uncentered):                   0.475\n",
      "Model:                            OLS   Adj. R-squared (uncentered):              0.462\n",
      "Method:                 Least Squares   F-statistic:                              34.22\n",
      "Date:                Mon, 28 Oct 2024   Prob (F-statistic):                    2.57e-20\n",
      "Time:                        10:21:44   Log-Likelihood:                         -745.06\n",
      "No. Observations:                 155   AIC:                                      1498.\n",
      "Df Residuals:                     151   BIC:                                      1510.\n",
      "Df Model:                           4                                                  \n",
      "Covariance Type:            nonrobust                                                  \n",
      "==============================================================================\n",
      "                 coef    std err          t      P>|t|      [0.025      0.975]\n",
      "------------------------------------------------------------------------------\n",
      "log_open     258.0536    325.909      0.792      0.430    -385.877     901.985\n",
      "log_high    -820.7969    344.157     -2.385      0.018   -1500.781    -140.813\n",
      "log_low      569.5649    302.422      1.883      0.062     -27.960    1167.090\n",
      "log_volume -4.062e-05   2.88e-05     -1.410      0.161   -9.75e-05    1.63e-05\n",
      "==============================================================================\n",
      "Omnibus:                       63.423   Durbin-Watson:                   2.175\n",
      "Prob(Omnibus):                  0.000   Jarque-Bera (JB):              149.080\n",
      "Skew:                           1.801   Prob(JB):                     4.24e-33\n",
      "Kurtosis:                       6.180   Cond. No.                     2.47e+07\n",
      "==============================================================================\n",
      "\n",
      "Notes:\n",
      "[1] R² is computed without centering (uncentered) since the model does not contain a constant.\n",
      "[2] Standard Errors assume that the covariance matrix of the errors is correctly specified.\n",
      "[3] The condition number is large, 2.47e+07. This might indicate that there are\n",
      "strong multicollinearity or other numerical problems.\n"
     ]
    }
   ],
   "source": [
    "import statsmodels.api as sm\n",
    "\n",
    "# Assuming df is your DataFrame\n",
    "# Define the features (independent variables) and the target (dependent variable)\n",
    "X = df.drop(['actual_spread','corwin_spread','log_close'],axis=1)\n",
    "y = df['actual_spread']\n",
    "\n",
    "# Add a constant to the model (intercept)\n",
    "# X = sm.add_constant(X)\n",
    "\n",
    "# Perform OLS regression\n",
    "model = sm.OLS(y, X).fit()\n",
    "\n",
    "# Print the summary, which includes t-tests and p-values for each feature\n",
    "print(model.summary())"
   ]
  },
  {
   "cell_type": "code",
   "execution_count": null,
   "metadata": {},
   "outputs": [],
   "source": []
  }
 ],
 "metadata": {
  "kernelspec": {
   "display_name": "base",
   "language": "python",
   "name": "python3"
  },
  "language_info": {
   "codemirror_mode": {
    "name": "ipython",
    "version": 3
   },
   "file_extension": ".py",
   "mimetype": "text/x-python",
   "name": "python",
   "nbconvert_exporter": "python",
   "pygments_lexer": "ipython3",
   "version": "3.12.2"
  }
 },
 "nbformat": 4,
 "nbformat_minor": 2
}
