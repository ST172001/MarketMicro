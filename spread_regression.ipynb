{
 "cells": [
  {
   "cell_type": "code",
   "execution_count": 24,
   "metadata": {},
   "outputs": [],
   "source": [
    "import pandas as pd\n",
    "import numpy as np"
   ]
  },
  {
   "cell_type": "code",
   "execution_count": 25,
   "metadata": {},
   "outputs": [],
   "source": [
    "df=pd.read_csv('dataset_regression.csv')"
   ]
  },
  {
   "cell_type": "code",
   "execution_count": 26,
   "metadata": {},
   "outputs": [],
   "source": [
    "df = df[df['actual_spread'] >= 0]"
   ]
  },
  {
   "cell_type": "code",
   "execution_count": 27,
   "metadata": {},
   "outputs": [
    {
     "data": {
      "text/plain": [
       "(155, 7)"
      ]
     },
     "execution_count": 27,
     "metadata": {},
     "output_type": "execute_result"
    }
   ],
   "source": [
    "df.shape"
   ]
  },
  {
   "cell_type": "code",
   "execution_count": 28,
   "metadata": {},
   "outputs": [
    {
     "name": "stdout",
     "output_type": "stream",
     "text": [
      "                                 OLS Regression Results                                \n",
      "=======================================================================================\n",
      "Dep. Variable:          actual_spread   R-squared (uncentered):                   0.479\n",
      "Model:                            OLS   Adj. R-squared (uncentered):              0.462\n",
      "Method:                 Least Squares   F-statistic:                              27.57\n",
      "Date:                Wed, 23 Oct 2024   Prob (F-statistic):                    1.00e-19\n",
      "Time:                        11:15:48   Log-Likelihood:                         -744.56\n",
      "No. Observations:                 155   AIC:                                      1499.\n",
      "Df Residuals:                     150   BIC:                                      1514.\n",
      "Df Model:                           5                                                  \n",
      "Covariance Type:            nonrobust                                                  \n",
      "=================================================================================\n",
      "                    coef    std err          t      P>|t|      [0.025      0.975]\n",
      "---------------------------------------------------------------------------------\n",
      "log_open        356.0955    340.642      1.045      0.298    -316.982    1029.173\n",
      "log_high       -457.4754    178.538     -2.562      0.011    -810.250    -104.701\n",
      "log_low         565.4369    302.471      1.869      0.064     -32.216    1163.090\n",
      "log_close      -457.4754    178.538     -2.562      0.011    -810.250    -104.701\n",
      "log_volume    -3.354e-05   2.97e-05     -1.130      0.260   -9.22e-05    2.51e-05\n",
      "corwin_spread     0.0774      0.078      0.990      0.324      -0.077       0.232\n",
      "==============================================================================\n",
      "Omnibus:                       60.778   Durbin-Watson:                   2.161\n",
      "Prob(Omnibus):                  0.000   Jarque-Bera (JB):              137.075\n",
      "Skew:                           1.744   Prob(JB):                     1.72e-30\n",
      "Kurtosis:                       6.009   Cond. No.                     7.88e+18\n",
      "==============================================================================\n",
      "\n",
      "Notes:\n",
      "[1] R² is computed without centering (uncentered) since the model does not contain a constant.\n",
      "[2] Standard Errors assume that the covariance matrix of the errors is correctly specified.\n",
      "[3] The smallest eigenvalue is 4.85e-26. This might indicate that there are\n",
      "strong multicollinearity problems or that the design matrix is singular.\n"
     ]
    }
   ],
   "source": [
    "import statsmodels.api as sm\n",
    "\n",
    "# Assuming df is your DataFrame\n",
    "# Define the features (independent variables) and the target (dependent variable)\n",
    "X = df.drop(['actual_spread'],axis=1)\n",
    "y = df['actual_spread']\n",
    "\n",
    "# Add a constant to the model (intercept)\n",
    "# X = sm.add_constant(X)\n",
    "\n",
    "# Perform OLS regression\n",
    "model = sm.OLS(y, X).fit()\n",
    "\n",
    "# Print the summary, which includes t-tests and p-values for each feature\n",
    "print(model.summary())"
   ]
  }
 ],
 "metadata": {
  "kernelspec": {
   "display_name": "base",
   "language": "python",
   "name": "python3"
  },
  "language_info": {
   "codemirror_mode": {
    "name": "ipython",
    "version": 3
   },
   "file_extension": ".py",
   "mimetype": "text/x-python",
   "name": "python",
   "nbconvert_exporter": "python",
   "pygments_lexer": "ipython3",
   "version": "3.12.2"
  }
 },
 "nbformat": 4,
 "nbformat_minor": 2
}
